{
 "cells": [
  {
   "cell_type": "markdown",
   "metadata": {},
   "source": [
    "## Example: Sequential vs. Multi-threaded\n",
    "\n",
    "Let's say you have a sequential function that processes a list of tasks with a delay.\n",
    "\n",
    "### **Sequential Execution**\n",
    "\n"
   ]
  },
  {
   "cell_type": "code",
   "execution_count": 1,
   "metadata": {},
   "outputs": [
    {
     "name": "stdout",
     "output_type": "stream",
     "text": [
      "Processing task 0...\n",
      "Task 0 completed.\n",
      "Processing task 1...\n",
      "Task 1 completed.\n",
      "Processing task 2...\n",
      "Task 2 completed.\n",
      "Processing task 3...\n",
      "Task 3 completed.\n",
      "Processing task 4...\n",
      "Task 4 completed.\n"
     ]
    }
   ],
   "source": [
    "\n",
    "import time\n",
    "\n",
    "def process_task(task_id):\n",
    "    print(f\"Processing task {task_id}...\")\n",
    "    time.sleep(2)  # Simulate a time-consuming task\n",
    "    print(f\"Task {task_id} completed.\")\n",
    "\n",
    "# Sequential execution\n",
    "tasks = range(5)\n",
    "for task in tasks:\n",
    "    process_task(task)\n"
   ]
  },
  {
   "cell_type": "markdown",
   "metadata": {},
   "source": [
    "\n",
    "\n",
    "This will take `5 * 2 = 10` seconds.\n",
    "\n",
    "### **Multi-threaded Execution**\n",
    "\n",
    "Now, let’s use `threading` to process tasks concurrently.\n"
   ]
  },
  {
   "cell_type": "code",
   "execution_count": 6,
   "metadata": {},
   "outputs": [
    {
     "name": "stdout",
     "output_type": "stream",
     "text": [
      "Processing task 0...\n",
      "Processing task 1...\n",
      "Processing task 2...\n",
      "Processing task 3...\n",
      "Processing task 4...\n",
      "Task 1 completed.Task 0 completed.\n",
      "Task 2 completed.\n",
      "Task 3 completed.\n",
      "Task 4 completed.\n",
      "\n"
     ]
    }
   ],
   "source": [
    "import threading\n",
    "import time\n",
    "\n",
    "def process_task(task_id):\n",
    "    print(f\"Processing task {task_id}...\")\n",
    "    time.sleep(2)  # Simulate a time-consuming task\n",
    "    print(f\"Task {task_id} completed.\")\n",
    "\n",
    "# Using threads to run tasks concurrently\n",
    "threads = []\n",
    "tasks = range(5)\n",
    "\n",
    "for task in tasks:\n",
    "    thread = threading.Thread(target=process_task, args=(task,))\n",
    "    threads.append(thread)\n",
    "    thread.start()\n",
    "\n",
    "# Wait for all threads to complete\n",
    "for thread in threads:\n",
    "    thread.join()\n"
   ]
  },
  {
   "cell_type": "markdown",
   "metadata": {},
   "source": [
    "\n",
    "\n",
    "### **Key Differences**\n",
    "\n",
    "1. **Sequential Execution**: Takes `10 seconds`.\n",
    "2. **Multi-threaded Execution**: Takes only `~2 seconds` (since tasks run in parallel).\n",
    "\n",
    "However, Python threads do not provide true parallel execution for CPU-bound tasks due to the **Global Interpreter Lock (GIL)**. If you're dealing with CPU-heavy tasks, consider `multiprocessing`.\n"
   ]
  }
 ],
 "metadata": {
  "kernelspec": {
   "display_name": "Python 3",
   "language": "python",
   "name": "python3"
  },
  "language_info": {
   "codemirror_mode": {
    "name": "ipython",
    "version": 3
   },
   "file_extension": ".py",
   "mimetype": "text/x-python",
   "name": "python",
   "nbconvert_exporter": "python",
   "pygments_lexer": "ipython3",
   "version": "3.11.9"
  }
 },
 "nbformat": 4,
 "nbformat_minor": 2
}
