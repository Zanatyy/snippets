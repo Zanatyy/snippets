{
 "cells": [
  {
   "cell_type": "markdown",
   "metadata": {},
   "source": [
    "## Example: Sequential vs. Multi-threaded\n",
    "\n",
    "Let's say you have a sequential function that processes a list of tasks with a delay.\n",
    "\n",
    "### **Sequential Execution**\n",
    "\n"
   ]
  },
  {
   "cell_type": "code",
   "execution_count": null,
   "metadata": {},
   "outputs": [],
   "source": [
    "\n",
    "import time\n",
    "\n",
    "def process_task(task_id):\n",
    "    print(f\"Processing task {task_id}...\")\n",
    "    time.sleep(2)  # Simulate a time-consuming task\n",
    "    print(f\"Task {task_id} completed.\")\n",
    "\n",
    "# Sequential execution\n",
    "tasks = range(5)\n",
    "for task in tasks:\n",
    "    process_task(task)\n"
   ]
  },
  {
   "cell_type": "markdown",
   "metadata": {},
   "source": [
    "\n",
    "\n",
    "This will take `5 * 2 = 10` seconds.\n",
    "\n",
    "### **Multi-threaded Execution**\n",
    "\n",
    "Now, let’s use `threading` to process tasks concurrently.\n"
   ]
  },
  {
   "cell_type": "code",
   "execution_count": null,
   "metadata": {},
   "outputs": [],
   "source": [
    "import threading\n",
    "import time\n",
    "\n",
    "def process_task(task_id):\n",
    "    print(f\"Processing task {task_id}...\")\n",
    "    time.sleep(2)  # Simulate a time-consuming task\n",
    "    print(f\"Task {task_id} completed.\")\n",
    "\n",
    "# Using threads to run tasks concurrently\n",
    "threads = []\n",
    "tasks = range(5)\n",
    "\n",
    "for task in tasks:\n",
    "    thread = threading.Thread(target=process_task, args=(task,))\n",
    "    threads.append(thread)\n",
    "    thread.start()\n",
    "\n",
    "# Wait for all threads to complete\n",
    "for thread in threads:\n",
    "    thread.join()\n"
   ]
  },
  {
   "cell_type": "markdown",
   "metadata": {},
   "source": [
    "\n",
    "\n",
    "### **Key Differences**\n",
    "\n",
    "1. **Sequential Execution**: Takes `10 seconds`.\n",
    "2. **Multi-threaded Execution**: Takes only `~2 seconds` (since tasks run in parallel).\n",
    "\n",
    "However, Python threads do not provide true parallel execution for CPU-bound tasks due to the **Global Interpreter Lock (GIL)**. If you're dealing with CPU-heavy tasks, consider `multiprocessing`.\n"
   ]
  }
 ],
 "metadata": {
  "language_info": {
   "name": "python"
  }
 },
 "nbformat": 4,
 "nbformat_minor": 2
}
